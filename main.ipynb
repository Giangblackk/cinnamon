{
 "cells": [
  {
   "cell_type": "markdown",
   "metadata": {},
   "source": [
    "## Data preprocessing"
   ]
  },
  {
   "cell_type": "code",
   "execution_count": 1,
   "metadata": {},
   "outputs": [
    {
     "name": "stderr",
     "output_type": "stream",
     "text": [
      "Using TensorFlow backend.\n",
      "/usr/lib/python3.6/importlib/_bootstrap.py:219: RuntimeWarning: compiletime version 3.5 of module 'tensorflow.python.framework.fast_tensor_util' does not match runtime version 3.6\n",
      "  return f(*args, **kwds)\n"
     ]
    }
   ],
   "source": [
    "import os\n",
    "from keras.preprocessing.image import ImageDataGenerator\n",
    "\n",
    "DATA_DIR = 'data'\n",
    "TRAIN_DIR = os.path.join(DATA_DIR, 'train')\n",
    "VAL_DIR = os.path.join(DATA_DIR, 'val')"
   ]
  },
  {
   "cell_type": "code",
   "execution_count": 2,
   "metadata": {},
   "outputs": [
    {
     "name": "stdout",
     "output_type": "stream",
     "text": [
      "Found 16 images belonging to 2 classes.\n",
      "Found 4 images belonging to 2 classes.\n"
     ]
    }
   ],
   "source": [
    "# Augmentation for train data\n",
    "train_datagen = ImageDataGenerator(\n",
    "    rescale=1./255,\n",
    "    rotation_range=40,\n",
    "    width_shift_range=0.2,\n",
    "    height_shift_range=0.2,\n",
    "    shear_range=0.2,\n",
    "    zoom_range=0.2,\n",
    "    horizontal_flip=True\n",
    ")\n",
    "\n",
    "val_datagen = ImageDataGenerator(rescale=1./255)\n",
    "\n",
    "train_generator = train_datagen.flow_from_directory(\n",
    "    TRAIN_DIR,\n",
    "    target_size=(224, 224),\n",
    "    batch_size=20,\n",
    "    class_mode='binary'\n",
    ")\n",
    "val_generator = val_datagen.flow_from_directory(\n",
    "    VAL_DIR,\n",
    "    target_size=(224, 224),\n",
    "    batch_size=20,\n",
    "    class_mode='binary'\n",
    ")"
   ]
  },
  {
   "cell_type": "markdown",
   "metadata": {},
   "source": [
    "Save labels into file"
   ]
  },
  {
   "cell_type": "code",
   "execution_count": 3,
   "metadata": {},
   "outputs": [
    {
     "name": "stdout",
     "output_type": "stream",
     "text": [
      "Label to index: {'driver_license': 0, 'id_card': 1}\n",
      "Index to labels: {0: 'driver_license', 1: 'id_card'}\n"
     ]
    }
   ],
   "source": [
    "import pickle\n",
    "\n",
    "labels = train_generator.class_indices\n",
    "print(\"Label to index:\", labels)\n",
    "idx_to_label = {}\n",
    "\n",
    "for k, v in labels.items():\n",
    "    idx_to_label[v] = k\n",
    "    \n",
    "print(\"Index to labels:\", idx_to_label)\n",
    "with open('model/labels.pickle', 'wb') as f:\n",
    "    pickle.dump(idx_to_label, f, protocol=pickle.HIGHEST_PROTOCOL)"
   ]
  },
  {
   "cell_type": "code",
   "execution_count": 4,
   "metadata": {},
   "outputs": [
    {
     "name": "stdout",
     "output_type": "stream",
     "text": [
      "data batch shape: (16, 224, 224, 3)\n",
      "labels batch shape: (16,)\n"
     ]
    }
   ],
   "source": [
    "for data_batch, labels_batch in train_generator:\n",
    "    print('data batch shape:', data_batch.shape)\n",
    "    print('labels batch shape:', labels_batch.shape)\n",
    "    break"
   ]
  },
  {
   "cell_type": "markdown",
   "metadata": {},
   "source": [
    "## Model"
   ]
  },
  {
   "cell_type": "markdown",
   "metadata": {},
   "source": [
    "Basic CNN"
   ]
  },
  {
   "cell_type": "code",
   "execution_count": 5,
   "metadata": {},
   "outputs": [
    {
     "name": "stdout",
     "output_type": "stream",
     "text": [
      "_________________________________________________________________\n",
      "Layer (type)                 Output Shape              Param #   \n",
      "=================================================================\n",
      "conv2d_1 (Conv2D)            (None, 222, 222, 32)      896       \n",
      "_________________________________________________________________\n",
      "max_pooling2d_1 (MaxPooling2 (None, 111, 111, 32)      0         \n",
      "_________________________________________________________________\n",
      "conv2d_2 (Conv2D)            (None, 109, 109, 64)      18496     \n",
      "_________________________________________________________________\n",
      "max_pooling2d_2 (MaxPooling2 (None, 54, 54, 64)        0         \n",
      "_________________________________________________________________\n",
      "conv2d_3 (Conv2D)            (None, 52, 52, 128)       73856     \n",
      "_________________________________________________________________\n",
      "max_pooling2d_3 (MaxPooling2 (None, 26, 26, 128)       0         \n",
      "_________________________________________________________________\n",
      "conv2d_4 (Conv2D)            (None, 24, 24, 128)       147584    \n",
      "_________________________________________________________________\n",
      "max_pooling2d_4 (MaxPooling2 (None, 12, 12, 128)       0         \n",
      "_________________________________________________________________\n",
      "flatten_1 (Flatten)          (None, 18432)             0         \n",
      "_________________________________________________________________\n",
      "dropout_1 (Dropout)          (None, 18432)             0         \n",
      "_________________________________________________________________\n",
      "dense_1 (Dense)              (None, 512)               9437696   \n",
      "_________________________________________________________________\n",
      "dense_2 (Dense)              (None, 1)                 513       \n",
      "=================================================================\n",
      "Total params: 9,679,041\n",
      "Trainable params: 9,679,041\n",
      "Non-trainable params: 0\n",
      "_________________________________________________________________\n"
     ]
    }
   ],
   "source": [
    "from keras import layers\n",
    "from keras import models\n",
    "\n",
    "model = models.Sequential()\n",
    "model.add(layers.Conv2D(32, (3, 3), activation='relu',\n",
    "                        input_shape=(224, 224, 3)))\n",
    "model.add(layers.MaxPooling2D((2, 2)))\n",
    "model.add(layers.Conv2D(64, (3, 3), activation='relu'))\n",
    "model.add(layers.MaxPooling2D((2, 2)))\n",
    "model.add(layers.Conv2D(128, (3, 3), activation='relu'))\n",
    "model.add(layers.MaxPooling2D((2, 2)))\n",
    "model.add(layers.Conv2D(128, (3, 3), activation='relu'))\n",
    "model.add(layers.MaxPooling2D((2, 2)))\n",
    "model.add(layers.Flatten())\n",
    "model.add(layers.Dropout(0.5))\n",
    "model.add(layers.Dense(512, activation='relu'))\n",
    "model.add(layers.Dense(1, activation='sigmoid'))\n",
    "\n",
    "model.summary()"
   ]
  },
  {
   "cell_type": "markdown",
   "metadata": {},
   "source": [
    "Visualize model"
   ]
  },
  {
   "cell_type": "code",
   "execution_count": 7,
   "metadata": {},
   "outputs": [
    {
     "data": {
      "image/svg+xml": [
       "<svg height=\"921pt\" viewBox=\"0.00 0.00 260.00 921.00\" width=\"260pt\" xmlns=\"http://www.w3.org/2000/svg\" xmlns:xlink=\"http://www.w3.org/1999/xlink\">\n",
       "<g class=\"graph\" id=\"graph0\" transform=\"scale(1 1) rotate(0) translate(4 917)\">\n",
       "<title>G</title>\n",
       "<polygon fill=\"#ffffff\" points=\"-4,4 -4,-917 256,-917 256,4 -4,4\" stroke=\"transparent\"/>\n",
       "<!-- 139697306102024 -->\n",
       "<g class=\"node\" id=\"node1\">\n",
       "<title>139697306102024</title>\n",
       "<polygon fill=\"none\" points=\"18.5,-876.5 18.5,-912.5 233.5,-912.5 233.5,-876.5 18.5,-876.5\" stroke=\"#000000\"/>\n",
       "<text fill=\"#000000\" font-family=\"Times,serif\" font-size=\"14.00\" text-anchor=\"middle\" x=\"126\" y=\"-890.8\">conv2d_1_input: InputLayer</text>\n",
       "</g>\n",
       "<!-- 139697306101800 -->\n",
       "<g class=\"node\" id=\"node2\">\n",
       "<title>139697306101800</title>\n",
       "<polygon fill=\"none\" points=\"51.5,-803.5 51.5,-839.5 200.5,-839.5 200.5,-803.5 51.5,-803.5\" stroke=\"#000000\"/>\n",
       "<text fill=\"#000000\" font-family=\"Times,serif\" font-size=\"14.00\" text-anchor=\"middle\" x=\"126\" y=\"-817.8\">conv2d_1: Conv2D</text>\n",
       "</g>\n",
       "<!-- 139697306102024&#45;&gt;139697306101800 -->\n",
       "<g class=\"edge\" id=\"edge1\">\n",
       "<title>139697306102024-&gt;139697306101800</title>\n",
       "<path d=\"M126,-876.4551C126,-868.3828 126,-858.6764 126,-849.6817\" fill=\"none\" stroke=\"#000000\"/>\n",
       "<polygon fill=\"#000000\" points=\"129.5001,-849.5903 126,-839.5904 122.5001,-849.5904 129.5001,-849.5903\" stroke=\"#000000\"/>\n",
       "</g>\n",
       "<!-- 139697305860976 -->\n",
       "<g class=\"node\" id=\"node3\">\n",
       "<title>139697305860976</title>\n",
       "<polygon fill=\"none\" points=\"0,-730.5 0,-766.5 252,-766.5 252,-730.5 0,-730.5\" stroke=\"#000000\"/>\n",
       "<text fill=\"#000000\" font-family=\"Times,serif\" font-size=\"14.00\" text-anchor=\"middle\" x=\"126\" y=\"-744.8\">max_pooling2d_1: MaxPooling2D</text>\n",
       "</g>\n",
       "<!-- 139697306101800&#45;&gt;139697305860976 -->\n",
       "<g class=\"edge\" id=\"edge2\">\n",
       "<title>139697306101800-&gt;139697305860976</title>\n",
       "<path d=\"M126,-803.4551C126,-795.3828 126,-785.6764 126,-776.6817\" fill=\"none\" stroke=\"#000000\"/>\n",
       "<polygon fill=\"#000000\" points=\"129.5001,-776.5903 126,-766.5904 122.5001,-776.5904 129.5001,-776.5903\" stroke=\"#000000\"/>\n",
       "</g>\n",
       "<!-- 139697305859352 -->\n",
       "<g class=\"node\" id=\"node4\">\n",
       "<title>139697305859352</title>\n",
       "<polygon fill=\"none\" points=\"51.5,-657.5 51.5,-693.5 200.5,-693.5 200.5,-657.5 51.5,-657.5\" stroke=\"#000000\"/>\n",
       "<text fill=\"#000000\" font-family=\"Times,serif\" font-size=\"14.00\" text-anchor=\"middle\" x=\"126\" y=\"-671.8\">conv2d_2: Conv2D</text>\n",
       "</g>\n",
       "<!-- 139697305860976&#45;&gt;139697305859352 -->\n",
       "<g class=\"edge\" id=\"edge3\">\n",
       "<title>139697305860976-&gt;139697305859352</title>\n",
       "<path d=\"M126,-730.4551C126,-722.3828 126,-712.6764 126,-703.6817\" fill=\"none\" stroke=\"#000000\"/>\n",
       "<polygon fill=\"#000000\" points=\"129.5001,-703.5903 126,-693.5904 122.5001,-703.5904 129.5001,-703.5903\" stroke=\"#000000\"/>\n",
       "</g>\n",
       "<!-- 139697305564832 -->\n",
       "<g class=\"node\" id=\"node5\">\n",
       "<title>139697305564832</title>\n",
       "<polygon fill=\"none\" points=\"0,-584.5 0,-620.5 252,-620.5 252,-584.5 0,-584.5\" stroke=\"#000000\"/>\n",
       "<text fill=\"#000000\" font-family=\"Times,serif\" font-size=\"14.00\" text-anchor=\"middle\" x=\"126\" y=\"-598.8\">max_pooling2d_2: MaxPooling2D</text>\n",
       "</g>\n",
       "<!-- 139697305859352&#45;&gt;139697305564832 -->\n",
       "<g class=\"edge\" id=\"edge4\">\n",
       "<title>139697305859352-&gt;139697305564832</title>\n",
       "<path d=\"M126,-657.4551C126,-649.3828 126,-639.6764 126,-630.6817\" fill=\"none\" stroke=\"#000000\"/>\n",
       "<polygon fill=\"#000000\" points=\"129.5001,-630.5903 126,-620.5904 122.5001,-630.5904 129.5001,-630.5903\" stroke=\"#000000\"/>\n",
       "</g>\n",
       "<!-- 139697306101968 -->\n",
       "<g class=\"node\" id=\"node6\">\n",
       "<title>139697306101968</title>\n",
       "<polygon fill=\"none\" points=\"51.5,-511.5 51.5,-547.5 200.5,-547.5 200.5,-511.5 51.5,-511.5\" stroke=\"#000000\"/>\n",
       "<text fill=\"#000000\" font-family=\"Times,serif\" font-size=\"14.00\" text-anchor=\"middle\" x=\"126\" y=\"-525.8\">conv2d_3: Conv2D</text>\n",
       "</g>\n",
       "<!-- 139697305564832&#45;&gt;139697306101968 -->\n",
       "<g class=\"edge\" id=\"edge5\">\n",
       "<title>139697305564832-&gt;139697306101968</title>\n",
       "<path d=\"M126,-584.4551C126,-576.3828 126,-566.6764 126,-557.6817\" fill=\"none\" stroke=\"#000000\"/>\n",
       "<polygon fill=\"#000000\" points=\"129.5001,-557.5903 126,-547.5904 122.5001,-557.5904 129.5001,-557.5903\" stroke=\"#000000\"/>\n",
       "</g>\n",
       "<!-- 139697305287368 -->\n",
       "<g class=\"node\" id=\"node7\">\n",
       "<title>139697305287368</title>\n",
       "<polygon fill=\"none\" points=\"0,-438.5 0,-474.5 252,-474.5 252,-438.5 0,-438.5\" stroke=\"#000000\"/>\n",
       "<text fill=\"#000000\" font-family=\"Times,serif\" font-size=\"14.00\" text-anchor=\"middle\" x=\"126\" y=\"-452.8\">max_pooling2d_3: MaxPooling2D</text>\n",
       "</g>\n",
       "<!-- 139697306101968&#45;&gt;139697305287368 -->\n",
       "<g class=\"edge\" id=\"edge6\">\n",
       "<title>139697306101968-&gt;139697305287368</title>\n",
       "<path d=\"M126,-511.4551C126,-503.3828 126,-493.6764 126,-484.6817\" fill=\"none\" stroke=\"#000000\"/>\n",
       "<polygon fill=\"#000000\" points=\"129.5001,-484.5903 126,-474.5904 122.5001,-484.5904 129.5001,-484.5903\" stroke=\"#000000\"/>\n",
       "</g>\n",
       "<!-- 139697305620264 -->\n",
       "<g class=\"node\" id=\"node8\">\n",
       "<title>139697305620264</title>\n",
       "<polygon fill=\"none\" points=\"51.5,-365.5 51.5,-401.5 200.5,-401.5 200.5,-365.5 51.5,-365.5\" stroke=\"#000000\"/>\n",
       "<text fill=\"#000000\" font-family=\"Times,serif\" font-size=\"14.00\" text-anchor=\"middle\" x=\"126\" y=\"-379.8\">conv2d_4: Conv2D</text>\n",
       "</g>\n",
       "<!-- 139697305287368&#45;&gt;139697305620264 -->\n",
       "<g class=\"edge\" id=\"edge7\">\n",
       "<title>139697305287368-&gt;139697305620264</title>\n",
       "<path d=\"M126,-438.4551C126,-430.3828 126,-420.6764 126,-411.6817\" fill=\"none\" stroke=\"#000000\"/>\n",
       "<polygon fill=\"#000000\" points=\"129.5001,-411.5903 126,-401.5904 122.5001,-411.5904 129.5001,-411.5903\" stroke=\"#000000\"/>\n",
       "</g>\n",
       "<!-- 139697305407616 -->\n",
       "<g class=\"node\" id=\"node9\">\n",
       "<title>139697305407616</title>\n",
       "<polygon fill=\"none\" points=\"0,-292.5 0,-328.5 252,-328.5 252,-292.5 0,-292.5\" stroke=\"#000000\"/>\n",
       "<text fill=\"#000000\" font-family=\"Times,serif\" font-size=\"14.00\" text-anchor=\"middle\" x=\"126\" y=\"-306.8\">max_pooling2d_4: MaxPooling2D</text>\n",
       "</g>\n",
       "<!-- 139697305620264&#45;&gt;139697305407616 -->\n",
       "<g class=\"edge\" id=\"edge8\">\n",
       "<title>139697305620264-&gt;139697305407616</title>\n",
       "<path d=\"M126,-365.4551C126,-357.3828 126,-347.6764 126,-338.6817\" fill=\"none\" stroke=\"#000000\"/>\n",
       "<polygon fill=\"#000000\" points=\"129.5001,-338.5903 126,-328.5904 122.5001,-338.5904 129.5001,-338.5903\" stroke=\"#000000\"/>\n",
       "</g>\n",
       "<!-- 139697305934984 -->\n",
       "<g class=\"node\" id=\"node10\">\n",
       "<title>139697305934984</title>\n",
       "<polygon fill=\"none\" points=\"56,-219.5 56,-255.5 196,-255.5 196,-219.5 56,-219.5\" stroke=\"#000000\"/>\n",
       "<text fill=\"#000000\" font-family=\"Times,serif\" font-size=\"14.00\" text-anchor=\"middle\" x=\"126\" y=\"-233.8\">flatten_1: Flatten</text>\n",
       "</g>\n",
       "<!-- 139697305407616&#45;&gt;139697305934984 -->\n",
       "<g class=\"edge\" id=\"edge9\">\n",
       "<title>139697305407616-&gt;139697305934984</title>\n",
       "<path d=\"M126,-292.4551C126,-284.3828 126,-274.6764 126,-265.6817\" fill=\"none\" stroke=\"#000000\"/>\n",
       "<polygon fill=\"#000000\" points=\"129.5001,-265.5903 126,-255.5904 122.5001,-265.5904 129.5001,-265.5903\" stroke=\"#000000\"/>\n",
       "</g>\n",
       "<!-- 139697305016360 -->\n",
       "<g class=\"node\" id=\"node11\">\n",
       "<title>139697305016360</title>\n",
       "<polygon fill=\"none\" points=\"48,-146.5 48,-182.5 204,-182.5 204,-146.5 48,-146.5\" stroke=\"#000000\"/>\n",
       "<text fill=\"#000000\" font-family=\"Times,serif\" font-size=\"14.00\" text-anchor=\"middle\" x=\"126\" y=\"-160.8\">dropout_1: Dropout</text>\n",
       "</g>\n",
       "<!-- 139697305934984&#45;&gt;139697305016360 -->\n",
       "<g class=\"edge\" id=\"edge10\">\n",
       "<title>139697305934984-&gt;139697305016360</title>\n",
       "<path d=\"M126,-219.4551C126,-211.3828 126,-201.6764 126,-192.6817\" fill=\"none\" stroke=\"#000000\"/>\n",
       "<polygon fill=\"#000000\" points=\"129.5001,-192.5903 126,-182.5904 122.5001,-192.5904 129.5001,-192.5903\" stroke=\"#000000\"/>\n",
       "</g>\n",
       "<!-- 139697305344824 -->\n",
       "<g class=\"node\" id=\"node12\">\n",
       "<title>139697305344824</title>\n",
       "<polygon fill=\"none\" points=\"62,-73.5 62,-109.5 190,-109.5 190,-73.5 62,-73.5\" stroke=\"#000000\"/>\n",
       "<text fill=\"#000000\" font-family=\"Times,serif\" font-size=\"14.00\" text-anchor=\"middle\" x=\"126\" y=\"-87.8\">dense_1: Dense</text>\n",
       "</g>\n",
       "<!-- 139697305016360&#45;&gt;139697305344824 -->\n",
       "<g class=\"edge\" id=\"edge11\">\n",
       "<title>139697305016360-&gt;139697305344824</title>\n",
       "<path d=\"M126,-146.4551C126,-138.3828 126,-128.6764 126,-119.6817\" fill=\"none\" stroke=\"#000000\"/>\n",
       "<polygon fill=\"#000000\" points=\"129.5001,-119.5903 126,-109.5904 122.5001,-119.5904 129.5001,-119.5903\" stroke=\"#000000\"/>\n",
       "</g>\n",
       "<!-- 139697305016640 -->\n",
       "<g class=\"node\" id=\"node13\">\n",
       "<title>139697305016640</title>\n",
       "<polygon fill=\"none\" points=\"62,-.5 62,-36.5 190,-36.5 190,-.5 62,-.5\" stroke=\"#000000\"/>\n",
       "<text fill=\"#000000\" font-family=\"Times,serif\" font-size=\"14.00\" text-anchor=\"middle\" x=\"126\" y=\"-14.8\">dense_2: Dense</text>\n",
       "</g>\n",
       "<!-- 139697305344824&#45;&gt;139697305016640 -->\n",
       "<g class=\"edge\" id=\"edge12\">\n",
       "<title>139697305344824-&gt;139697305016640</title>\n",
       "<path d=\"M126,-73.4551C126,-65.3828 126,-55.6764 126,-46.6817\" fill=\"none\" stroke=\"#000000\"/>\n",
       "<polygon fill=\"#000000\" points=\"129.5001,-46.5903 126,-36.5904 122.5001,-46.5904 129.5001,-46.5903\" stroke=\"#000000\"/>\n",
       "</g>\n",
       "</g>\n",
       "</svg>"
      ],
      "text/plain": [
       "<IPython.core.display.SVG object>"
      ]
     },
     "execution_count": 7,
     "metadata": {},
     "output_type": "execute_result"
    }
   ],
   "source": [
    "from IPython.display import SVG\n",
    "from keras.utils.vis_utils import model_to_dot\n",
    "\n",
    "SVG(model_to_dot(model).create(prog='dot', format='svg'))"
   ]
  },
  {
   "cell_type": "code",
   "execution_count": 8,
   "metadata": {},
   "outputs": [],
   "source": [
    "from keras import optimizers\n",
    "\n",
    "model.compile(loss='binary_crossentropy',\n",
    "              optimizer=optimizers.RMSprop(lr=1e-4),\n",
    "              metrics=['acc'])"
   ]
  },
  {
   "cell_type": "markdown",
   "metadata": {},
   "source": [
    "Checkpoint for only get best `val_acc` model"
   ]
  },
  {
   "cell_type": "code",
   "execution_count": 9,
   "metadata": {},
   "outputs": [],
   "source": [
    "from keras.callbacks import ModelCheckpoint\n",
    "\n",
    "if not os.path.exists('model'):\n",
    "    os.mkdir('model')\n",
    "    \n",
    "best_val_acc = ModelCheckpoint('model/cnn.h5', monitor='val_acc', verbose=1, save_best_only=True)"
   ]
  },
  {
   "cell_type": "code",
   "execution_count": 10,
   "metadata": {
    "scrolled": true
   },
   "outputs": [
    {
     "name": "stdout",
     "output_type": "stream",
     "text": [
      "Epoch 1/5\n",
      "Epoch 00001: val_acc improved from -inf to 0.50000, saving model to model/cnn.h5\n",
      "1/1 [==============================] - 11s 11s/step - loss: 0.6868 - acc: 0.7500 - val_loss: 0.6919 - val_acc: 0.5000\n",
      "Epoch 2/5\n",
      "Epoch 00002: val_acc improved from 0.50000 to 0.75000, saving model to model/cnn.h5\n",
      "1/1 [==============================] - 7s 7s/step - loss: 0.6804 - acc: 0.6250 - val_loss: 0.6731 - val_acc: 0.7500\n",
      "Epoch 3/5\n",
      "Epoch 00003: val_acc did not improve\n",
      "1/1 [==============================] - 7s 7s/step - loss: 0.6463 - acc: 0.7500 - val_loss: 0.6694 - val_acc: 0.5000\n",
      "Epoch 4/5\n",
      "Epoch 00004: val_acc did not improve\n",
      "1/1 [==============================] - 7s 7s/step - loss: 0.6254 - acc: 0.6250 - val_loss: 0.6791 - val_acc: 0.5000\n",
      "Epoch 5/5\n",
      "Epoch 00005: val_acc did not improve\n",
      "1/1 [==============================] - 7s 7s/step - loss: 0.6768 - acc: 0.5000 - val_loss: 0.8710 - val_acc: 0.5000\n"
     ]
    }
   ],
   "source": [
    "history = model.fit_generator(\n",
    "    train_generator,\n",
    "    steps_per_epoch=len(train_generator),\n",
    "    epochs=5,\n",
    "    validation_data=val_generator,\n",
    "    validation_steps=len(val_generator),\n",
    "    callbacks=[best_val_acc]\n",
    ")"
   ]
  },
  {
   "cell_type": "code",
   "execution_count": 11,
   "metadata": {},
   "outputs": [
    {
     "data": {
      "image/png": "[encoded data removed]",
      "text/plain": [
       "<matplotlib.figure.Figure at 0x7f0deec577f0>"
      ]
     },
     "metadata": {},
     "output_type": "display_data"
    },
    {
     "data": {
      "image/png": "[encoded data removed]",
      "text/plain": [
       "<matplotlib.figure.Figure at 0x7f0dc109c2e8>"
      ]
     },
     "metadata": {},
     "output_type": "display_data"
    }
   ],
   "source": [
    "import matplotlib.pyplot as plt\n",
    "\n",
    "acc = history.history['acc']\n",
    "val_acc = history.history['val_acc']\n",
    "loss = history.history['loss']\n",
    "val_loss = history.history['val_loss']\n",
    "\n",
    "epochs = range(1, len(acc)+1)\n",
    "\n",
    "plt.plot(epochs, acc, 'r', label='Training acc')\n",
    "plt.plot(epochs, val_acc, 'b', label='Validation acc')\n",
    "plt.title('Training and validation accuracy')\n",
    "plt.legend()\n",
    "\n",
    "plt.figure()\n",
    "\n",
    "plt.plot(epochs, loss, 'r', label='Training loss')\n",
    "plt.plot(epochs, val_loss, 'b', label='Validation loss')\n",
    "plt.title('Training and validation loss')\n",
    "plt.legend()\n",
    "\n",
    "plt.show()"
   ]
  }
 ],
 "metadata": {
  "kernelspec": {
   "display_name": "Python 3",
   "language": "python",
   "name": "python3"
  },
  "language_info": {
   "codemirror_mode": {
    "name": "ipython",
    "version": 3
   },
   "file_extension": ".py",
   "mimetype": "text/x-python",
   "name": "python",
   "nbconvert_exporter": "python",
   "pygments_lexer": "ipython3",
   "version": "3.6.3"
  }
 },
 "nbformat": 4,
 "nbformat_minor": 2
}
